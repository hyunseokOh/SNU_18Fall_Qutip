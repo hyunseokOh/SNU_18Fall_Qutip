{
 "cells": [
  {
   "cell_type": "markdown",
   "metadata": {},
   "source": [
    "# QuTiP example: Landau-Zener transitions modification"
   ]
  },
  {
   "cell_type": "markdown",
   "metadata": {},
   "source": [
    "The original notebook was borrowed from the qutip homepage"
   ]
  },
  {
   "cell_type": "code",
   "execution_count": 1,
   "metadata": {},
   "outputs": [],
   "source": [
    "%matplotlib inline"
   ]
  },
  {
   "cell_type": "code",
   "execution_count": 2,
   "metadata": {},
   "outputs": [],
   "source": [
    "import matplotlib.pyplot as plt"
   ]
  },
  {
   "cell_type": "code",
   "execution_count": 3,
   "metadata": {},
   "outputs": [],
   "source": [
    "import numpy as np"
   ]
  },
  {
   "cell_type": "code",
   "execution_count": 4,
   "metadata": {},
   "outputs": [],
   "source": [
    "from qutip import *"
   ]
  },
  {
   "cell_type": "code",
   "execution_count": 5,
   "metadata": {},
   "outputs": [],
   "source": [
    "import time"
   ]
  },
  {
   "cell_type": "code",
   "execution_count": 6,
   "metadata": {},
   "outputs": [],
   "source": [
    "def hamiltonian_t(t, args):\n",
    "    \"\"\" evaluate the hamiltonian at time t. \"\"\"\n",
    "    H0 = args[0]\n",
    "    H1 = args[1]\n",
    "\n",
    "    return H0 + t * H1"
   ]
  },
  {
   "cell_type": "code",
   "execution_count": 20,
   "metadata": {},
   "outputs": [],
   "source": [
    "def compute(tlist):\n",
    "    evals_mat = np.zeros((len(tlist),2))\n",
    "    idx=0\n",
    "    for t in tlist:\n",
    "\n",
    "        # evaluate the Hamiltonian\n",
    "        H = - (delta/2.0) * sigmax() - (eps0/2.0) * sigmaz() - t *(A/2.0)* sigmaz() \n",
    "        \n",
    "        # find the energy eigenvalues of the composite system\n",
    "        evals, ekets = H.eigenstates()\n",
    "        evals_mat[idx,:] = np.real(evals)\n",
    "        idx += 1\n",
    "\n",
    "    return evals_mat"
   ]
  },
  {
   "cell_type": "code",
   "execution_count": 44,
   "metadata": {},
   "outputs": [],
   "source": [
    "options=Options(nsteps=20000)\n",
    "\n",
    "def qubit_integrate(delta, eps0, A, gamma1, gamma2, psi0, tlist):\n",
    "\n",
    "    # Hamiltonian\n",
    "    sx = sigmax()\n",
    "    sz = sigmaz()\n",
    "    sm = destroy(2)\n",
    "\n",
    "    H0 = - delta/2.0 * sx - eps0/2.0 * sz\n",
    "    H1 = - (A/2.0) * sz        \n",
    "\n",
    "    # collapse operators\n",
    "    c_op_list = []\n",
    "\n",
    "    n_th = 0.0 # zero temperature\n",
    "\n",
    "    # relaxation\n",
    "    rate = gamma1 * (1 + n_th)\n",
    "    if rate > 0.0:\n",
    "        c_op_list.append(sqrt(rate) * sm)\n",
    "\n",
    "    # excitation\n",
    "    rate = gamma1 * n_th\n",
    "    if rate > 0.0:\n",
    "        c_op_list.append(sqrt(rate) * sm.dag())\n",
    "\n",
    "    # dephasing \n",
    "    rate = gamma2\n",
    "    if rate > 0.0:\n",
    "        c_op_list.append(sqrt(rate) * sz)\n",
    "\n",
    "    # evolve and calculate expectation values\n",
    "\n",
    "    # method 1: function callback which returns the time-depdent qobj\n",
    "    #H_args = (H0, H1)\n",
    "    #output = mesolve(hamiltonian_t, psi0, tlist, c_op_list, [sm.dag() * sm], H_args)  \n",
    "\n",
    "    # method 2: a function callback that returns the coefficient for a qobj\n",
    "    #H = [H0, [H1, lambda x,y: x]]\n",
    "    #output = mesolve(H, psi0, tlist, c_op_list, [sm.dag() * sm], {})  \n",
    "\n",
    "    # method 3: a string that defines the coefficient. The solver generates\n",
    "    # and compiles C code using cython. This method is usually the fastest\n",
    "    # for large systems or long time evolutions, but there is fixed-time\n",
    "    # overhead that makes it inefficient for small and short-time evolutions.\n",
    "    H = [H0, [H1, 't']]\n",
    "    output = mesolve(H, psi0, tlist, c_op_list, [(sigmaz()+1)/2], {},options=options)  \n",
    "\n",
    "    return output.expect[0]"
   ]
  },
  {
   "cell_type": "code",
   "execution_count": 45,
   "metadata": {},
   "outputs": [],
   "source": [
    "#\n",
    "# set up the calculation\n",
    "#\n",
    "delta = 2 * 2 * np.pi   # qubit sigma_x coefficient\n",
    "eps0  = 0.0 * 2 * np.pi   # qubit sigma_z coefficient\n",
    "A     = 100 * 2 * np.pi   # sweep rate\n",
    "gamma1 = 0.0           # relaxation rate\n",
    "gamma2 = 0.0           # dephasing  rate\n",
    "psi0 = basis(2,0)      # initial state\n",
    "\n",
    "tlist = np.linspace(-20, 20, 1000)"
   ]
  },
  {
   "cell_type": "code",
   "execution_count": 46,
   "metadata": {},
   "outputs": [
    {
     "data": {
      "image/png": "[encoded data removed]",
      "text/plain": [
       "<Figure size 864x432 with 1 Axes>"
      ]
     },
     "metadata": {
      "needs_background": "light"
     },
     "output_type": "display_data"
    }
   ],
   "source": [
    "evals_mat = compute(tlist)\n",
    "fig, ax = plt.subplots(figsize=(12,6))\n",
    "\n",
    "ax.plot(tlist, (evals_mat) / (2*np.pi), 'b')\n",
    "\n",
    "ax.set_xlabel('Time')\n",
    "ax.set_ylabel('Eigenenergies')\n",
    "ax.set_title('Energy spectrum of Landau-Zener Hamiltonian');"
   ]
  },
  {
   "cell_type": "code",
   "execution_count": 47,
   "metadata": {},
   "outputs": [
    {
     "name": "stdout",
     "output_type": "stream",
     "text": [
      "time elapsed = 28.275157690048218\n"
     ]
    }
   ],
   "source": [
    "start_time = time.time()\n",
    "p_ex = qubit_integrate(delta, eps0, A, gamma1, gamma2, psi0, tlist)\n",
    "print('time elapsed = ' + str(time.time() - start_time))"
   ]
  },
  {
   "cell_type": "code",
   "execution_count": 48,
   "metadata": {},
   "outputs": [
    {
     "data": {
      "image/png": "[encoded data removed]",
      "text/plain": [
       "<Figure size 864x576 with 1 Axes>"
      ]
     },
     "metadata": {
      "needs_background": "light"
     },
     "output_type": "display_data"
    }
   ],
   "source": [
    "fig, ax = plt.subplots(figsize=(12,8))\n",
    "ax.plot(tlist, np.real(p_ex), 'b', tlist, np.real(1-p_ex), 'r')\n",
    "ax.plot(tlist, 1 - np.exp(-np.pi * delta **2 / (2 * A)) * np.ones(shape(tlist)), 'k')\n",
    "ax.set_xlabel('Time')\n",
    "ax.set_ylabel('Occupation probability')\n",
    "ax.set_title('Landau-Zener transition')\n",
    "ax.legend((\"Excited state\", \"Ground state\", \"Landau-Zener formula\"), loc=0);"
   ]
  },
  {
   "cell_type": "markdown",
   "metadata": {},
   "source": [
    "## Steady state of strongly driven two-level system (repeated LZ transitions)"
   ]
  },
  {
   "cell_type": "code",
   "execution_count": null,
   "metadata": {},
   "outputs": [],
   "source": [
    "def qubit_integrate(delta, eps0, A, omega, gamma1, gamma2, psi0, tlist, option):\n",
    "\n",
    "    # Hamiltonian\n",
    "    sx = sigmax()\n",
    "    sz = sigmaz()\n",
    "    sm = destroy(2)\n",
    "\n",
    "    H0 = - delta/2.0 * sx - eps0/2.0 * sz\n",
    "    H1 = - A/2.0 * sz\n",
    "        \n",
    "    H = [H0, [H1, 'cos(w*t)']]\n",
    "    H_args = {'w' : omega}\n",
    "    # collapse operators\n",
    "    c_op_list = []\n",
    "\n",
    "    n_th = 0.0 # zero temperature\n",
    "\n",
    "    # relaxation\n",
    "    rate = gamma1 * (1 + n_th)\n",
    "    if rate > 0.0:\n",
    "        c_op_list.append(np.sqrt(rate) * sm)\n",
    "\n",
    "    # excitation\n",
    "    rate = gamma1 * n_th\n",
    "    if rate > 0.0:\n",
    "        c_op_list.append(np.sqrt(rate) * sm.dag())\n",
    "\n",
    "    # dephasing \n",
    "    rate = gamma2\n",
    "    if rate > 0.0:\n",
    "        c_op_list.append(np.sqrt(rate) * sz)\n",
    "\n",
    "    if option == \"dynamics\":\n",
    "        # evolve and calculate expectation values\n",
    "        output = mesolve(H, psi0, tlist, c_op_list, [sm.dag() * sm], H_args)  \n",
    "\n",
    "        return output.expect[0]\n",
    "\n",
    "    else: # option = steadystate\n",
    "\n",
    "        # find the propagator for one driving period\n",
    "        T = 2*np.pi / omega\n",
    "        U = propagator(H, T, c_op_list, H_args, options=Odeoptions(nsteps=5000))\n",
    "\n",
    "        # find the steady state of successive application of the propagator\n",
    "        rho_ss = propagator_steadystate(U)\n",
    "\n",
    "        return np.real(expect(sm.dag() * sm, rho_ss))"
   ]
  },
  {
   "cell_type": "code",
   "execution_count": null,
   "metadata": {},
   "outputs": [],
   "source": [
    "#\n",
    "# set up the calculation: a strongly driven two-level system\n",
    "# (repeated LZ transitions)\n",
    "#\n",
    "delta = 0.05 * 2 * np.pi  # qubit sigma_x coefficient\n",
    "eps0  = 0.0  * 2 * np.pi  # qubit sigma_z coefficient\n",
    "A     = 2.0  * 2 * np.pi  # sweep rate\n",
    "gamma1 = 0.0001        # relaxation rate\n",
    "gamma2 = 0.005         # dephasing  rate\n",
    "psi0   = basis(2,0)    # initial state\n",
    "omega  = 0.05 * 2 * np.pi # driving frequency\n",
    "T      = (2*np.pi)/omega  # driving period\n",
    "\n",
    "tlist = np.linspace(0.0, 3 * T, 1500)"
   ]
  },
  {
   "cell_type": "markdown",
   "metadata": {},
   "source": [
    "### Steady state and dynamics for a fixed driving amplitude"
   ]
  },
  {
   "cell_type": "code",
   "execution_count": null,
   "metadata": {},
   "outputs": [],
   "source": [
    "start_time = time.time()\n",
    "p_ex = qubit_integrate(delta, eps0, A, omega, gamma1, gamma2, psi0, tlist, \"dynamics\")\n",
    "print('dynamics: time elapsed = ' + str(time.time() - start_time))"
   ]
  },
  {
   "cell_type": "code",
   "execution_count": null,
   "metadata": {},
   "outputs": [],
   "source": [
    "start_time = time.time()\n",
    "p_ex_ss = qubit_integrate(delta, eps0, A, omega, gamma1, gamma2, psi0, tlist, \"steadystate\")\n",
    "print('steady state: time elapsed = ' + str(time.time() - start_time))"
   ]
  },
  {
   "cell_type": "code",
   "execution_count": null,
   "metadata": {},
   "outputs": [],
   "source": [
    "fig, (ax1, ax2) = plt.subplots(2, 1, figsize=(12, 8))\n",
    "\n",
    "ax1.plot(tlist, np.real(p_ex), 'b', tlist, np.real(1-p_ex), 'r', \n",
    "         tlist, np.ones(np.shape(tlist)) * p_ex_ss, 'k')\n",
    "ax1.set_xlabel('Time')\n",
    "ax1.set_ylabel('Probability')\n",
    "ax1.set_title('Repeated Landau-Zener-like transitions')\n",
    "ax1.legend((\"Excited state\", \"Ground state\", \"Excited steady state\"), loc=0)\n",
    "\n",
    "ax2.plot(tlist, -delta/2.0 * np.ones(np.shape(tlist)), 'r')\n",
    "ax2.plot(tlist, -(eps0/2.0 + A/2.0 * np.cos(omega * tlist)), 'b')\n",
    "ax2.legend((\"sx coeff\", \"sz coeff\"))\n",
    "ax2.set_xlabel('Time')\n",
    "ax2.set_ylabel('Coefficients in the Hamiltonian');"
   ]
  },
  {
   "cell_type": "markdown",
   "metadata": {},
   "source": [
    "### Steady state as a function of driving amplitude"
   ]
  },
  {
   "cell_type": "code",
   "execution_count": null,
   "metadata": {},
   "outputs": [],
   "source": [
    "start_time = time.time()\n",
    "\n",
    "A_vec = 2 * np.pi * np.linspace(0.0, 5.0, 100)\n",
    "\n",
    "p_ex_ss_vec = np.zeros(len(A_vec))\n",
    "idx = 0\n",
    "start_time = time.time()\n",
    "for A in A_vec:\n",
    "    \n",
    "    p_ex_ss_vec[idx] = qubit_integrate(delta, eps0, A, omega, gamma1, gamma2, psi0, tlist, \"steadystate\")\n",
    "    idx += 1\n",
    "\n",
    "print('time elapsed = ' + str(time.time() - start_time))"
   ]
  },
  {
   "cell_type": "code",
   "execution_count": null,
   "metadata": {},
   "outputs": [],
   "source": [
    "fig, ax = plt.subplots()\n",
    "\n",
    "ax.plot(A_vec/(2*np.pi), p_ex_ss_vec, 'b.-')\n",
    "ax.set_title(\"Steady state of repeated LZ transitions\")\n",
    "ax.set_xlabel(\"driving amplitude\")\n",
    "ax.set_ylabel(\"Occupation probability\");"
   ]
  },
  {
   "cell_type": "markdown",
   "metadata": {},
   "source": [
    "## Steadystate of a strongly driven two-level system as a function of driving amplitude and qubit bias"
   ]
  },
  {
   "cell_type": "markdown",
   "metadata": {},
   "source": [
    "Find the steady state of a strongly driven qubit as a function of driving amplitude and qubit bias. \n",
    "\n",
    "Note: This calculation can takes a long time."
   ]
  },
  {
   "cell_type": "code",
   "execution_count": null,
   "metadata": {},
   "outputs": [],
   "source": [
    "def hamiltonian_t(t, args):\n",
    "    #\n",
    "    # evaluate the hamiltonian at time t. \n",
    "    #\n",
    "    H0 = args[0]\n",
    "    H1 = args[1]\n",
    "    w  = args[2]\n",
    "\n",
    "    return H0 + H1 * np.sin(w * t)"
   ]
  },
  {
   "cell_type": "code",
   "execution_count": null,
   "metadata": {},
   "outputs": [],
   "source": [
    "def sd_qubit_integrate(delta, eps0_vec, A_vec, w, gamma1, gamma2):\n",
    "\n",
    "    # Hamiltonian\n",
    "    sx = sigmax()\n",
    "    sz = sigmaz()\n",
    "    sm = destroy(2)\n",
    "\n",
    "    # collapse operators\n",
    "    c_op_list = []\n",
    "\n",
    "    n_th = 0.0 # zero temperature\n",
    "\n",
    "    # relaxation\n",
    "    rate = gamma1 * (1 + n_th)\n",
    "    if rate > 0.0:\n",
    "        c_op_list.append(np.sqrt(rate) * sm)\n",
    "\n",
    "    # excitation\n",
    "    rate = gamma1 * n_th\n",
    "    if rate > 0.0:\n",
    "        c_op_list.append(np.sqrt(rate) * sm.dag())\n",
    "\n",
    "    # dephasing \n",
    "    rate = gamma2\n",
    "    if rate > 0.0:\n",
    "        c_op_list.append(np.sqrt(rate) * sz)\n",
    "\n",
    "\n",
    "    N = len(A_vec)\n",
    "    M = len(eps0_vec)\n",
    "    p_ex = np.zeros([N, M]) #, dtype=complex)\n",
    "\n",
    "    T = 2 * np.pi / w\n",
    "\n",
    "    sn = sm.dag() * sm\n",
    "\n",
    "    # sweep over the driving amplitude and bias point, find the steady state \n",
    "    # for each point and store in a matrix\n",
    "    for n in range(0, N):\n",
    "        for m in range(0, M):\n",
    "\n",
    "            H0 = - delta/2.0 * sx - eps0_vec[m]/2.0 * sz\n",
    "            H1 = - A_vec[n] * sx\n",
    "            \n",
    "            H = [H0, [H1, 'sin(w * t)']]\n",
    "            \n",
    "            H_args = {'w': omega}\n",
    "            \n",
    "            # find the propagator for one period of the time-dependent\n",
    "            # hamiltonian\n",
    "            U = propagator(H, T, c_op_list, H_args)\n",
    "\n",
    "            # find the steady state of the driven system \n",
    "            rho_ss = propagator_steadystate(U)\n",
    "        \n",
    "            p_ex[n, m] = np.real(expect(sn, rho_ss))\n",
    "\n",
    "    return p_ex"
   ]
  },
  {
   "cell_type": "code",
   "execution_count": null,
   "metadata": {},
   "outputs": [],
   "source": [
    "#\n",
    "# set up the parameters\n",
    "#\n",
    "delta = 0.2  * 2 * np.pi   # qubit sigma_x coefficient\n",
    "w     = 1.0  * 2 * np.pi   # qubit sigma_z coefficient\n",
    "\n",
    "A_vec    = np.linspace(0.0, 4.0, 100) * 2 * np.pi  # driving amplitude\n",
    "eps0_vec = np.linspace(0.0, 4.0, 100) * 2 * np.pi  # qubit sigma-z bias point\n",
    "\n",
    "gamma1 = 0.05          # relaxation rate\n",
    "gamma2 = 0.0           # dephasing  rate"
   ]
  },
  {
   "cell_type": "code",
   "execution_count": null,
   "metadata": {},
   "outputs": [],
   "source": [
    "start_time = time.time()\n",
    "p_ex = sd_qubit_integrate(delta, eps0_vec, A_vec, w, gamma1, gamma2)\n",
    "print('time elapsed = ' + str(time.time() - start_time))"
   ]
  },
  {
   "cell_type": "code",
   "execution_count": null,
   "metadata": {},
   "outputs": [],
   "source": [
    "fig, ax = plt.subplots(figsize=(10,10))\n",
    "p = ax.pcolor(A_vec, eps0_vec, np.real(p_ex), edgecolors='none')\n",
    "p.set_cmap('RdYlBu_r')\n",
    "ax.set_ylabel(r'$A/\\omega$', fontsize=20)\n",
    "ax.set_xlabel(r'$\\epsilon_0/\\omega$', fontsize=20)\n",
    "ax.axis('tight')\n",
    "ax.set_title('Excitation probabilty of qubit, in steady state', fontsize=16);"
   ]
  },
  {
   "cell_type": "markdown",
   "metadata": {},
   "source": [
    "## Versions"
   ]
  },
  {
   "cell_type": "code",
   "execution_count": null,
   "metadata": {},
   "outputs": [],
   "source": [
    "from qutip.ipynbtools import version_table\n",
    "\n",
    "version_table()"
   ]
  },
  {
   "cell_type": "code",
   "execution_count": null,
   "metadata": {},
   "outputs": [],
   "source": []
  }
 ],
 "metadata": {
  "kernelspec": {
   "display_name": "Python 3",
   "language": "python",
   "name": "python3"
  },
  "language_info": {
   "codemirror_mode": {
    "name": "ipython",
    "version": 3
   },
   "file_extension": ".py",
   "mimetype": "text/x-python",
   "name": "python",
   "nbconvert_exporter": "python",
   "pygments_lexer": "ipython3",
   "version": "3.6.6"
  }
 },
 "nbformat": 4,
 "nbformat_minor": 1
}
